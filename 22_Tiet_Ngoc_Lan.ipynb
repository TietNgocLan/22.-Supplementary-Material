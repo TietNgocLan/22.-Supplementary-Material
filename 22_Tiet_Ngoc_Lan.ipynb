{
  "nbformat": 4,
  "nbformat_minor": 0,
  "metadata": {
    "colab": {
      "provenance": []
    },
    "kernelspec": {
      "name": "python3",
      "display_name": "Python 3"
    },
    "language_info": {
      "name": "python"
    }
  },
  "cells": [
    {
      "cell_type": "markdown",
      "source": [
        "**Mô hình dự báo CPI với RF + LSTM + Attention**"
      ],
      "metadata": {
        "id": "irBQ9qMo0nVH"
      }
    },
    {
      "cell_type": "code",
      "source": [
        "!pip install -q pandas numpy scikit-learn tensorflow openpyxl matplotlib seaborn"
      ],
      "metadata": {
        "id": "ASca2Gbx0Vl_"
      },
      "execution_count": 1,
      "outputs": []
    },
    {
      "cell_type": "markdown",
      "source": [
        "**Bước 1: Đọc dữ liệu và tiền xử lý**"
      ],
      "metadata": {
        "id": "wHUb4tax4JJt"
      }
    },
    {
      "cell_type": "code",
      "source": [
        "import pandas as pd\n",
        "import numpy as np\n",
        "from sklearn.preprocessing import MinMaxScaler # MinMaxScaler: chuẩn hóa dữ liệu về khoảng [0, 1], giúp mô hình học sâu hoạt động hiệu quả hơn.\n",
        "from sklearn.ensemble import RandomForestRegressor\n",
        "from sklearn.metrics import mean_squared_error, r2_score, mean_absolute_percentage_error\n",
        "from tensorflow.keras.models import Sequential, Model\n",
        "from tensorflow.keras.layers import LSTM, Dense, Dropout, Input, Layer\n",
        "import tensorflow as tf\n",
        "import matplotlib.pyplot as plt\n",
        "\n",
        "# Đọc file Excel\n",
        "from google.colab import files\n",
        "uploaded = files.upload()\n",
        "\n",
        "import pandas as pd\n",
        "df = pd.read_csv('CPI_Data.csv')\n",
        "df.head() # hiển thị 5 dòng đầu tiên của bảng dữ liệu để bạn kiểm tra nhanh\n",
        "print(df.head())\n",
        "\n",
        "# Loại bỏ các dòng chứa giá trị thiếu (NaN) để tránh lỗi khi huấn luyện mô hình\n",
        "df = df.dropna()\n",
        "# Dùng cột 'Time' làm chỉ mục thời gian (index) cho bảng dữ liệu — rất quan trọng khi xử lý chuỗi thời gian.\\\n",
        "df.set_index('Time', inplace=True)\n",
        "\n",
        "# Xử lý dấu phẩy và khoảng trắng, chuyển về float\n",
        "for col in df.columns:\n",
        "    df[col] = df[col].astype(str).str.replace(',', '').str.strip()\n",
        "    df[col] = df[col].astype(float)\n",
        "\n",
        "# Chuẩn hóa dữ liệu [0, 1]\n",
        "scaler = MinMaxScaler()\n",
        "scaled_data = scaler.fit_transform(df) # chuẩn hóa tất cả giá trị về khoảng [0, 1] dựa trên giá trị tối thiểu - tối đa của từng cột.\n",
        "\n",
        "# Gán biến đặc trưng và nhãn\n",
        "target_col = df.columns.get_loc('CPI')"
      ],
      "metadata": {
        "colab": {
          "base_uri": "https://localhost:8080/",
          "height": 540
        },
        "id": "AACNQrK54H9e",
        "outputId": "f3a366db-9737-479c-9162-9efa0a2eb2ba"
      },
      "execution_count": 13,
      "outputs": [
        {
          "output_type": "display_data",
          "data": {
            "text/plain": [
              "<IPython.core.display.HTML object>"
            ],
            "text/html": [
              "\n",
              "     <input type=\"file\" id=\"files-b1277ca7-6a12-4a0d-9f37-891e61b62e1d\" name=\"files[]\" multiple disabled\n",
              "        style=\"border:none\" />\n",
              "     <output id=\"result-b1277ca7-6a12-4a0d-9f37-891e61b62e1d\">\n",
              "      Upload widget is only available when the cell has been executed in the\n",
              "      current browser session. Please rerun this cell to enable.\n",
              "      </output>\n",
              "      <script>// Copyright 2017 Google LLC\n",
              "//\n",
              "// Licensed under the Apache License, Version 2.0 (the \"License\");\n",
              "// you may not use this file except in compliance with the License.\n",
              "// You may obtain a copy of the License at\n",
              "//\n",
              "//      http://www.apache.org/licenses/LICENSE-2.0\n",
              "//\n",
              "// Unless required by applicable law or agreed to in writing, software\n",
              "// distributed under the License is distributed on an \"AS IS\" BASIS,\n",
              "// WITHOUT WARRANTIES OR CONDITIONS OF ANY KIND, either express or implied.\n",
              "// See the License for the specific language governing permissions and\n",
              "// limitations under the License.\n",
              "\n",
              "/**\n",
              " * @fileoverview Helpers for google.colab Python module.\n",
              " */\n",
              "(function(scope) {\n",
              "function span(text, styleAttributes = {}) {\n",
              "  const element = document.createElement('span');\n",
              "  element.textContent = text;\n",
              "  for (const key of Object.keys(styleAttributes)) {\n",
              "    element.style[key] = styleAttributes[key];\n",
              "  }\n",
              "  return element;\n",
              "}\n",
              "\n",
              "// Max number of bytes which will be uploaded at a time.\n",
              "const MAX_PAYLOAD_SIZE = 100 * 1024;\n",
              "\n",
              "function _uploadFiles(inputId, outputId) {\n",
              "  const steps = uploadFilesStep(inputId, outputId);\n",
              "  const outputElement = document.getElementById(outputId);\n",
              "  // Cache steps on the outputElement to make it available for the next call\n",
              "  // to uploadFilesContinue from Python.\n",
              "  outputElement.steps = steps;\n",
              "\n",
              "  return _uploadFilesContinue(outputId);\n",
              "}\n",
              "\n",
              "// This is roughly an async generator (not supported in the browser yet),\n",
              "// where there are multiple asynchronous steps and the Python side is going\n",
              "// to poll for completion of each step.\n",
              "// This uses a Promise to block the python side on completion of each step,\n",
              "// then passes the result of the previous step as the input to the next step.\n",
              "function _uploadFilesContinue(outputId) {\n",
              "  const outputElement = document.getElementById(outputId);\n",
              "  const steps = outputElement.steps;\n",
              "\n",
              "  const next = steps.next(outputElement.lastPromiseValue);\n",
              "  return Promise.resolve(next.value.promise).then((value) => {\n",
              "    // Cache the last promise value to make it available to the next\n",
              "    // step of the generator.\n",
              "    outputElement.lastPromiseValue = value;\n",
              "    return next.value.response;\n",
              "  });\n",
              "}\n",
              "\n",
              "/**\n",
              " * Generator function which is called between each async step of the upload\n",
              " * process.\n",
              " * @param {string} inputId Element ID of the input file picker element.\n",
              " * @param {string} outputId Element ID of the output display.\n",
              " * @return {!Iterable<!Object>} Iterable of next steps.\n",
              " */\n",
              "function* uploadFilesStep(inputId, outputId) {\n",
              "  const inputElement = document.getElementById(inputId);\n",
              "  inputElement.disabled = false;\n",
              "\n",
              "  const outputElement = document.getElementById(outputId);\n",
              "  outputElement.innerHTML = '';\n",
              "\n",
              "  const pickedPromise = new Promise((resolve) => {\n",
              "    inputElement.addEventListener('change', (e) => {\n",
              "      resolve(e.target.files);\n",
              "    });\n",
              "  });\n",
              "\n",
              "  const cancel = document.createElement('button');\n",
              "  inputElement.parentElement.appendChild(cancel);\n",
              "  cancel.textContent = 'Cancel upload';\n",
              "  const cancelPromise = new Promise((resolve) => {\n",
              "    cancel.onclick = () => {\n",
              "      resolve(null);\n",
              "    };\n",
              "  });\n",
              "\n",
              "  // Wait for the user to pick the files.\n",
              "  const files = yield {\n",
              "    promise: Promise.race([pickedPromise, cancelPromise]),\n",
              "    response: {\n",
              "      action: 'starting',\n",
              "    }\n",
              "  };\n",
              "\n",
              "  cancel.remove();\n",
              "\n",
              "  // Disable the input element since further picks are not allowed.\n",
              "  inputElement.disabled = true;\n",
              "\n",
              "  if (!files) {\n",
              "    return {\n",
              "      response: {\n",
              "        action: 'complete',\n",
              "      }\n",
              "    };\n",
              "  }\n",
              "\n",
              "  for (const file of files) {\n",
              "    const li = document.createElement('li');\n",
              "    li.append(span(file.name, {fontWeight: 'bold'}));\n",
              "    li.append(span(\n",
              "        `(${file.type || 'n/a'}) - ${file.size} bytes, ` +\n",
              "        `last modified: ${\n",
              "            file.lastModifiedDate ? file.lastModifiedDate.toLocaleDateString() :\n",
              "                                    'n/a'} - `));\n",
              "    const percent = span('0% done');\n",
              "    li.appendChild(percent);\n",
              "\n",
              "    outputElement.appendChild(li);\n",
              "\n",
              "    const fileDataPromise = new Promise((resolve) => {\n",
              "      const reader = new FileReader();\n",
              "      reader.onload = (e) => {\n",
              "        resolve(e.target.result);\n",
              "      };\n",
              "      reader.readAsArrayBuffer(file);\n",
              "    });\n",
              "    // Wait for the data to be ready.\n",
              "    let fileData = yield {\n",
              "      promise: fileDataPromise,\n",
              "      response: {\n",
              "        action: 'continue',\n",
              "      }\n",
              "    };\n",
              "\n",
              "    // Use a chunked sending to avoid message size limits. See b/62115660.\n",
              "    let position = 0;\n",
              "    do {\n",
              "      const length = Math.min(fileData.byteLength - position, MAX_PAYLOAD_SIZE);\n",
              "      const chunk = new Uint8Array(fileData, position, length);\n",
              "      position += length;\n",
              "\n",
              "      const base64 = btoa(String.fromCharCode.apply(null, chunk));\n",
              "      yield {\n",
              "        response: {\n",
              "          action: 'append',\n",
              "          file: file.name,\n",
              "          data: base64,\n",
              "        },\n",
              "      };\n",
              "\n",
              "      let percentDone = fileData.byteLength === 0 ?\n",
              "          100 :\n",
              "          Math.round((position / fileData.byteLength) * 100);\n",
              "      percent.textContent = `${percentDone}% done`;\n",
              "\n",
              "    } while (position < fileData.byteLength);\n",
              "  }\n",
              "\n",
              "  // All done.\n",
              "  yield {\n",
              "    response: {\n",
              "      action: 'complete',\n",
              "    }\n",
              "  };\n",
              "}\n",
              "\n",
              "scope.google = scope.google || {};\n",
              "scope.google.colab = scope.google.colab || {};\n",
              "scope.google.colab._files = {\n",
              "  _uploadFiles,\n",
              "  _uploadFilesContinue,\n",
              "};\n",
              "})(self);\n",
              "</script> "
            ]
          },
          "metadata": {}
        },
        {
          "output_type": "stream",
          "name": "stdout",
          "text": [
            "Saving CPI_Data.csv to CPI_Data.csv\n",
            "   Time                  GDP                 FDI  Population growth  \\\n",
            "0  2000   31,172,518,403.32    1,298,000,000.00                1.13   \n",
            "1  2001   32,685,198,808.55    1,300,000,000.00                1.05   \n",
            "2  2002   35,064,105,500.83    1,400,000,000.00                1.02   \n",
            "3  2003   39,552,513,231.92    1,450,000,000.00                1.00   \n",
            "4  2004   45,427,854,693.26    1,610,000,000.00                0.97   \n",
            "\n",
            "     Population  Unemployment  Lending interest rate  \\\n",
            "0   77,154,011           2.26                  10.55   \n",
            "1   77,969,361           2.76                   9.42   \n",
            "2   78,772,224           2.12                   9.06   \n",
            "3   79,563,777           2.25                   9.48   \n",
            "4   80,338,971           2.14                   9.72   \n",
            "\n",
            "   General government final consumption expenditure  \\\n",
            "0                                              6.42   \n",
            "1                                              6.33   \n",
            "2                                              6.23   \n",
            "3                                              6.32   \n",
            "4                                              6.39   \n",
            "\n",
            "   Exports of goods and services        CPI  \n",
            "0                          53.92  48.088409  \n",
            "1                          55.06  47.880886  \n",
            "2                          54.74  49.715120  \n",
            "3                          56.67  51.323230  \n",
            "4                          59.73  55.303319  \n"
          ]
        }
      ]
    },
    {
      "cell_type": "code",
      "source": [
        "\n"
      ],
      "metadata": {
        "id": "IP44vUm6826V"
      },
      "execution_count": null,
      "outputs": []
    },
    {
      "cell_type": "markdown",
      "source": [
        "**Bước 2: Lựa chọn đặc trưng bằng Random Forest**"
      ],
      "metadata": {
        "id": "mWLYWJbG4PRm"
      }
    },
    {
      "cell_type": "code",
      "source": [
        "# Tách đặc trưng và nhãn\n",
        "features = df.drop(columns=['CPI'])\n",
        "target = df['CPI']\n",
        "\n",
        "# Huấn luyện mô hình Random Forest\n",
        "# Tạo một mô hình Random Forest Regressor với 100 cây (n_estimators=100).\n",
        "# random_state=42: đảm bảo kết quả lặp lại được (tái lập)\n",
        "rf = RandomForestRegressor(n_estimators=100, random_state=42)\n",
        "rf.fit(features, target)\n",
        "\n",
        "# Trích xuất độ quan trọng\n",
        "importances = rf.feature_importances_\n",
        "important_indices = np.where(importances > 0.01)[0] # Chọn các đặc trưng có độ quan trọng > 0.01, np.where(...) trả về chỉ số (index) của các cột này.\n",
        "selected_columns = features.columns[important_indices]\n",
        "print(\"Đặc trưng được chọn:\", list(selected_columns))\n",
        "\n",
        "# Tạo tập dữ liệu mới với đặc trưng được chọn\n",
        "df_selected = df[selected_columns.to_list() + ['CPI']]\n",
        "scaled_selected = MinMaxScaler().fit_transform(df_selected)\n"
      ],
      "metadata": {
        "colab": {
          "base_uri": "https://localhost:8080/"
        },
        "id": "eWUV-6BM4RcN",
        "outputId": "27e10039-7cbd-4b01-cdf8-7203bff218b6"
      },
      "execution_count": 14,
      "outputs": [
        {
          "output_type": "stream",
          "name": "stdout",
          "text": [
            "Đặc trưng được chọn: ['GDP', 'FDI', 'Population growth', 'Population', 'Unemployment', 'Lending interest rate', 'General government final consumption expenditure']\n"
          ]
        }
      ]
    },
    {
      "cell_type": "markdown",
      "source": [
        "**Bước 3: Tạo chuỗi thời gian**"
      ],
      "metadata": {
        "id": "BQ8L8TyP4TAG"
      }
    },
    {
      "cell_type": "code",
      "source": [
        "# Chọn các cột đặc trưng quan trọng\n",
        "selected_cols = ['GDP', 'FDI', 'Population growth', 'Population', 'Unemployment', 'Lending interest rate', 'General government final consumption expenditure', 'CPI']\n",
        "df_selected = df[selected_cols]\n",
        "\n",
        "# Chuẩn hóa dữ liệu\n",
        "scaler = MinMaxScaler()\n",
        "scaled_selected = scaler.fit_transform(df_selected)\n",
        "\n",
        "# Lấy vị trí của CPI trong danh sách đã chọn\n",
        "target_col = selected_cols.index('CPI')  # CPI nằm ở cột thứ 3 (index = 3)\n",
        "\n",
        "# Tạo chuỗi thời gian\n",
        "def create_sequences(data, target_idx, seq_len=5): # dùng 5 dòng dữ liệu liên tiếp để dự đoán dòng tiếp theo.\n",
        "    X, y = [], []\n",
        "    for i in range(len(data) - seq_len):\n",
        "        X.append(data[i:i+seq_len])\n",
        "        y.append(data[i+seq_len, target_idx])\n",
        "    return np.array(X), np.array(y)\n",
        "\n",
        "X_all, y_all = create_sequences(scaled_selected, target_col)\n",
        "\n",
        "# Chia train/test, 80% dùng để huấn luyện (train), 20% còn lại để kiểm tra (test).\n",
        "split = int(0.8 * len(X_all))\n",
        "X_train, X_test = X_all[:split], X_all[split:]\n",
        "y_train, y_test = y_all[:split], y_all[split:]\n"
      ],
      "metadata": {
        "id": "1O47ZTlMCZJ2"
      },
      "execution_count": 16,
      "outputs": []
    },
    {
      "cell_type": "markdown",
      "source": [
        "**Bước 4: Định nghĩa Attention Layer**"
      ],
      "metadata": {
        "id": "mMYBTLE44XYG"
      }
    },
    {
      "cell_type": "code",
      "source": [
        "class AttentionBlock(Layer):\n",
        "    def call(self, inputs):\n",
        "        query = value = inputs\n",
        "        scores = tf.matmul(query, value, transpose_b=True) # Tính toán ma trận điểm (attention scores),vd  chuỗi dài 5 bước → mỗi điểm có 5 trọng số tương ứng với 5 bước đầu vào\n",
        "        weights = tf.nn.softmax(scores, axis=-1) #  Tính trọng số attention (softmax), Tổng mỗi hàng = 1 → thể hiện mức độ tập trung vào từng bước thời gian\n",
        "        context = tf.matmul(weights, value) # Tính ngữ cảnh có trọng số\n",
        "        return tf.reduce_sum(context, axis=1) # Tổng theo chiều thời gian (axis=1), kết quả còn lại là tensor có shape [batch_size, features].\n"
      ],
      "metadata": {
        "id": "l-9Z0iqk4bOl"
      },
      "execution_count": 17,
      "outputs": []
    },
    {
      "cell_type": "markdown",
      "source": [
        "**Bước 5: Huấn luyện các mô hình**"
      ],
      "metadata": {
        "id": "LOibgZje4cN2"
      }
    },
    {
      "cell_type": "markdown",
      "source": [
        "**RF đơn thuần**"
      ],
      "metadata": {
        "id": "vAkJb5hY4glO"
      }
    },
    {
      "cell_type": "code",
      "source": [
        "rf_baseline = RandomForestRegressor()\n",
        "rf_baseline.fit(X_train[:, -1, :], y_train)\n",
        "rf_preds = rf_baseline.predict(X_test[:, -1, :])\n"
      ],
      "metadata": {
        "id": "coA1yg134efm"
      },
      "execution_count": 18,
      "outputs": []
    },
    {
      "cell_type": "markdown",
      "source": [
        "**LSTM đơn**"
      ],
      "metadata": {
        "id": "UC7A-JEF4k3m"
      }
    },
    {
      "cell_type": "code",
      "source": [
        "from tensorflow.keras.models import Sequential\n",
        "from tensorflow.keras.layers import LSTM, Dropout, Dense, Input\n",
        "\n",
        "# Xây dựng mô hình LSTM\n",
        "model_lstm = Sequential([\n",
        "    Input(shape=(seq_len, X_train.shape[2])),  # Khai báo input rõ ràng\n",
        "    LSTM(64),\n",
        "    Dropout(0.2),\n",
        "    Dense(1)\n",
        "])\n",
        "\n",
        "# Biên dịch mô hình\n",
        "model_lstm.compile(optimizer='adam', loss='mse')\n",
        "\n",
        "# Huấn luyện mô hình\n",
        "model_lstm.fit(X_train, y_train, epochs=200, batch_size=8, verbose=0)\n",
        "\n",
        "# Dự đoán\n",
        "y_pred_lstm = model_lstm.predict(X_test).squeeze()\n"
      ],
      "metadata": {
        "colab": {
          "base_uri": "https://localhost:8080/"
        },
        "id": "X2gYLNS5DRIG",
        "outputId": "f4cfbfc1-935a-40c3-ff88-b7838f23da1f"
      },
      "execution_count": 20,
      "outputs": [
        {
          "output_type": "stream",
          "name": "stdout",
          "text": [
            "\u001b[1m1/1\u001b[0m \u001b[32m━━━━━━━━━━━━━━━━━━━━\u001b[0m\u001b[37m\u001b[0m \u001b[1m1s\u001b[0m 693ms/step\n"
          ]
        }
      ]
    },
    {
      "cell_type": "markdown",
      "source": [
        "**LSTM + Attention (không chọn đặc trưng)**"
      ],
      "metadata": {
        "id": "nN5OxRgD4rRf"
      }
    },
    {
      "cell_type": "code",
      "source": [
        "# Tạo chuỗi thời gian đầu vào\n",
        "X_full, y_full = create_sequences(scaled_data, target_col)\n",
        "Xf_train, Xf_test = X_full[:split], X_full[split:]\n",
        "yf_train, yf_test = y_full[:split], y_full[split:]\n",
        "\n",
        "# Xây dựng mô hình LSTM + Attention bằng Keras Functional API\n",
        "inputs = Input(shape=(seq_len, Xf_train.shape[2]))\n",
        "lstm_out = LSTM(64, return_sequences=True)(inputs) # LSTM 64 đơn vị, trả về chuỗi (return_sequences=True) để truyền cho Attention\n",
        "attention = AttentionBlock()(lstm_out)\n",
        "output = Dense(1)(attention)\n",
        "\n",
        "# Compile, huấn luyện và dự đoán\n",
        "model_att = Model(inputs, output)\n",
        "model_att.compile(optimizer='adam', loss='mse')\n",
        "model_att.fit(Xf_train, yf_train, epochs=200, batch_size=8, verbose=0) # Huấn luyện mô hình trong 200 vòng (epoch), Kích thước mỗi batch là 8 mẫu.\n",
        "y_pred_att = model_att.predict(Xf_test).squeeze()\n"
      ],
      "metadata": {
        "colab": {
          "base_uri": "https://localhost:8080/"
        },
        "id": "TjAF-MGC4uOW",
        "outputId": "2ae20bb4-1c90-42d7-f889-9478e508d0ce"
      },
      "execution_count": 21,
      "outputs": [
        {
          "output_type": "stream",
          "name": "stdout",
          "text": [
            "\u001b[1m1/1\u001b[0m \u001b[32m━━━━━━━━━━━━━━━━━━━━\u001b[0m\u001b[37m\u001b[0m \u001b[1m0s\u001b[0m 254ms/step\n"
          ]
        }
      ]
    },
    {
      "cell_type": "markdown",
      "source": [
        "**Mô hình đề xuất: RF + LSTM + Attention**"
      ],
      "metadata": {
        "id": "A0A_ph9b4zcf"
      }
    },
    {
      "cell_type": "code",
      "source": [
        "# Lớp Input\n",
        "inputs_rf = Input(shape=(seq_len, X_train.shape[2]))\n",
        "# LSTM với trả về chuỗi (return_sequences=True)\n",
        "lstm_rf = LSTM(64, return_sequences=True)(inputs_rf) # LSTM với 64 đơn vị ẩn (units)\n",
        "att_rf = AttentionBlock()(lstm_rf)\n",
        "output_rf = Dense(1)(att_rf) # Lớp đầu ra (Dense)\n",
        "\n",
        "model_full = Model(inputs_rf, output_rf)\n",
        "model_full.compile(optimizer='adam', loss='mse')\n",
        "# Huấn luyện mô hình trong 200 vòng (epoch), batch_size=8: số mẫu được đưa vào mỗi lần cập nhật trọng số\n",
        "model_full.fit(X_train, y_train, epochs=200, batch_size=8, verbose=0)\n",
        "y_pred_full = model_full.predict(X_test).squeeze()\n"
      ],
      "metadata": {
        "colab": {
          "base_uri": "https://localhost:8080/"
        },
        "id": "Bs8EbqCS4xBG",
        "outputId": "28fb2996-3a08-4563-e068-6ee49bd2f86a"
      },
      "execution_count": 22,
      "outputs": [
        {
          "output_type": "stream",
          "name": "stdout",
          "text": [
            "\u001b[1m1/1\u001b[0m \u001b[32m━━━━━━━━━━━━━━━━━━━━\u001b[0m\u001b[37m\u001b[0m \u001b[1m0s\u001b[0m 251ms/step\n"
          ]
        }
      ]
    },
    {
      "cell_type": "markdown",
      "source": [
        "**Bước 6: Đánh giá mô hình**"
      ],
      "metadata": {
        "id": "0pW_7Gsr43He"
      }
    },
    {
      "cell_type": "code",
      "source": [
        "import numpy as np\n",
        "from sklearn.metrics import mean_squared_error, r2_score, mean_absolute_percentage_error\n",
        "\n",
        "def evaluate(y_true, y_pred, name):\n",
        "    mse = mean_squared_error(y_true, y_pred)\n",
        "    rmse = np.sqrt(mse)  # Tính RMSE thủ công\n",
        "    mape = mean_absolute_percentage_error(y_true, y_pred)\n",
        "    r2 = r2_score(y_true, y_pred)\n",
        "    print(f'{name}: RMSE={rmse:.3f}, MAPE={mape*100:.2f}%, R²={r2:.3f}')\n",
        "    return rmse, mape, r2\n",
        "\n",
        "# Gọi hàm đánh giá\n",
        "print(\"\\n--- Đánh giá mô hình ---\")\n",
        "evaluate(y_test, rf_preds, 'Random Forest')\n",
        "evaluate(y_test, y_pred_lstm, 'LSTM')\n",
        "evaluate(yf_test, y_pred_att, 'LSTM + Attention (full features)')\n",
        "evaluate(y_test, y_pred_full, 'Đề xuất: RF + LSTM + Attention')\n"
      ],
      "metadata": {
        "colab": {
          "base_uri": "https://localhost:8080/"
        },
        "id": "5mFYlS2A47V_",
        "outputId": "ab1cb000-24b5-41b5-8757-f2d5c6843518"
      },
      "execution_count": 26,
      "outputs": [
        {
          "output_type": "stream",
          "name": "stdout",
          "text": [
            "\n",
            "--- Đánh giá mô hình ---\n",
            "Random Forest: RMSE=0.184, MAPE=18.54%, R²=-19.876\n",
            "LSTM: RMSE=0.091, MAPE=8.91%, R²=-4.116\n",
            "LSTM + Attention (full features): RMSE=0.102, MAPE=11.27%, R²=0.044\n",
            "Đề xuất: RF + LSTM + Attention: RMSE=0.062, MAPE=6.06%, R²=-1.343\n"
          ]
        },
        {
          "output_type": "execute_result",
          "data": {
            "text/plain": [
              "(np.float64(0.06164888453438913), 0.06063946074126343, -1.3428061346663442)"
            ]
          },
          "metadata": {},
          "execution_count": 26
        }
      ]
    },
    {
      "cell_type": "markdown",
      "source": [
        "**Về RMSE và MAPE:**\n",
        "\n",
        "- Mô hình đề xuất (RF + LSTM + Attention) cho kết quả tốt nhất với:\n",
        "\n",
        "- RMSE = 0.062\n",
        "\n",
        "- MAPE = 6.06%\n",
        "\n",
        "--> Sai số rất thấp, mô hình dự báo gần đúng giá trị thực tế.\n",
        "\n",
        "**Về hệ số xác định R²:**\n",
        "\n",
        "- R² < 0 ở 3 mô hình (trừ LSTM+Attention full).\n",
        "\n",
        "-->  mô hình chưa giải thích tốt phương sai của dữ liệu. Có thể do số lượng mẫu nhỏ, biến đầu vào chưa đủ mạnh hoặc mô hình overfit nhẹ."
      ],
      "metadata": {
        "id": "kBpsKtoVGvoj"
      }
    },
    {
      "cell_type": "code",
      "source": [],
      "metadata": {
        "id": "fAnFcDBoExtz"
      },
      "execution_count": null,
      "outputs": []
    },
    {
      "cell_type": "markdown",
      "source": [
        "**Biểu đồ minh họa**"
      ],
      "metadata": {
        "id": "WPCtz7y149cH"
      }
    },
    {
      "cell_type": "code",
      "source": [
        "plt.figure(figsize=(10,5))\n",
        "plt.plot(y_test, label='Actual CPI', marker='o')\n",
        "plt.plot(y_pred_full, label='Predicted CPI (RF+LSTM+Attention)', marker='x')\n",
        "plt.title('So sánh CPI thực tế và dự báo')\n",
        "plt.xlabel('Năm')\n",
        "plt.ylabel('CPI (chuẩn hóa)')\n",
        "plt.legend()\n",
        "plt.grid()\n",
        "plt.show()\n"
      ],
      "metadata": {
        "colab": {
          "base_uri": "https://localhost:8080/",
          "height": 488
        },
        "id": "URqyiucQ4_En",
        "outputId": "13b562bb-4c2f-4e06-e364-54e8d605007a"
      },
      "execution_count": 27,
      "outputs": [
        {
          "output_type": "display_data",
          "data": {
            "text/plain": [
              "<Figure size 1000x500 with 1 Axes>"
            ],
            "image/png": "[encoded data removed]"
          },
          "metadata": {}
        }
      ]
    },
    {
      "cell_type": "markdown",
      "source": [],
      "metadata": {
        "id": "JYCBOO3b0mJ_"
      }
    }
  ]
}